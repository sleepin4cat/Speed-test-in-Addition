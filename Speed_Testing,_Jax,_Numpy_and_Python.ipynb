{
  "nbformat": 4,
  "nbformat_minor": 0,
  "metadata": {
    "colab": {
      "provenance": [],
      "authorship_tag": "ABX9TyOBNnnHDQnTQszQr3G5inbt"
    },
    "kernelspec": {
      "name": "python3",
      "display_name": "Python 3"
    },
    "language_info": {
      "name": "python"
    }
  },
  "cells": [
    {
      "cell_type": "code",
      "execution_count": 2,
      "metadata": {
        "colab": {
          "base_uri": "https://localhost:8080/"
        },
        "id": "c63qdOcUt6UY",
        "outputId": "ab5217e9-95c7-4117-8bbf-232893fcc15d"
      },
      "outputs": [
        {
          "output_type": "stream",
          "name": "stdout",
          "text": [
            "Result: 2\n",
            "Time elapsed: 0.0036513805389404297 seconds\n"
          ]
        }
      ],
      "source": [
        "import numpy as np\n",
        "import time\n",
        "\n",
        "start = time.time()\n",
        "result = np.add(1, 1)\n",
        "end = time.time()\n",
        "\n",
        "print(f\"Result: {result}\")\n",
        "print(f\"Time elapsed: {end - start} seconds\")"
      ]
    },
    {
      "cell_type": "code",
      "source": [
        "import jax.numpy as np\n",
        "import time\n",
        "\n",
        "start = time.time()\n",
        "result = np.add(1, 1)\n",
        "end = time.time()\n",
        "\n",
        "print(f\"Result: {result}\")\n",
        "print(f\"Time elapsed: {end - start} seconds\")"
      ],
      "metadata": {
        "colab": {
          "base_uri": "https://localhost:8080/"
        },
        "id": "bH9HKXDoum-I",
        "outputId": "f9117e92-803c-492a-e6ed-c1380a1fcdc7"
      },
      "execution_count": 3,
      "outputs": [
        {
          "output_type": "stream",
          "name": "stderr",
          "text": [
            "WARNING:jax._src.lib.xla_bridge:No GPU/TPU found, falling back to CPU. (Set TF_CPP_MIN_LOG_LEVEL=0 and rerun for more info.)\n"
          ]
        },
        {
          "output_type": "stream",
          "name": "stdout",
          "text": [
            "Result: 2\n",
            "Time elapsed: 0.49776220321655273 seconds\n"
          ]
        }
      ]
    },
    {
      "cell_type": "code",
      "source": [
        "import time\n",
        "\n",
        "start = time.time()\n",
        "result = 1 + 1\n",
        "end = time.time()\n",
        "\n",
        "print(f\"Result: {result}\")\n",
        "print(f\"Time elapsed: {end - start} seconds\")"
      ],
      "metadata": {
        "colab": {
          "base_uri": "https://localhost:8080/"
        },
        "id": "nnpQO2IFurjv",
        "outputId": "a6b0d539-ead9-47c4-d579-853cded454fc"
      },
      "execution_count": 4,
      "outputs": [
        {
          "output_type": "stream",
          "name": "stdout",
          "text": [
            "Result: 2\n",
            "Time elapsed: 7.224082946777344e-05 seconds\n"
          ]
        }
      ]
    }
  ]
}